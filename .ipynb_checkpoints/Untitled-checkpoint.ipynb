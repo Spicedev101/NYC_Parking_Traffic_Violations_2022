{
 "cells": [
  {
   "cell_type": "code",
   "execution_count": null,
   "id": "c6e9c9d9-2d62-43e1-895a-5f5e0b6bf81f",
   "metadata": {},
   "outputs": [],
   "source": []
  }
 ],
 "metadata": {
  "kernelspec": {
   "display_name": "",
   "name": ""
  },
  "language_info": {
   "name": ""
  }
 },
 "nbformat": 4,
 "nbformat_minor": 5
}
