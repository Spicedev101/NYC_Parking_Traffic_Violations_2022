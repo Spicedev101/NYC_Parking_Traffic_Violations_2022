{
 "cells": [
  {
   "cell_type": "markdown",
   "id": "22781fd0-eafd-409a-9b7e-e5ef8709c9b9",
   "metadata": {},
   "source": [
    "# Exploring New York City's Parking Violations in 2022"
   ]
  },
  {
   "cell_type": "markdown",
   "id": "81122a47-47f6-4897-b042-d97e9a96fb5c",
   "metadata": {},
   "source": [
    "# Introduction\n",
    "\n",
    "New York City (NYC) is one of the most traffic-congested cities in the world. As a result, one problem faced in NYC is motorists' parking violations. This project will explore parking violation data from NYC for the year 2022 to inform the stakeholders of the realities of the problem and provide insights to help improve the situation.     "
   ]
  },
  {
   "cell_type": "markdown",
   "id": "fbc88c8b-0fb0-40ac-8ac8-ca2b297cabb4",
   "metadata": {},
   "source": [
    "# Skills Used\n",
    "- SQL and Tableau\n",
    "In this project, I will use MYSQL to query and analyze a large volume of parking violation data from NYC Open Data. I will then use Tableau to visualize the insights obtained from the SQL queries on the data.   "
   ]
  },
  {
   "cell_type": "markdown",
   "id": "65bd3b31-31a5-4651-87dd-1cb2ff3575be",
   "metadata": {},
   "source": [
    "# Objective\n",
    "The main objective of the project is to explore NYC traffic violation data for the year 2022 to provide answers to the following questions:\n",
    ". Who were the main contributors to parking violations in NYC based on the state of vehicle registration?\n",
    ". What was the distribution of parking violations across NYC? Which areas were the violation hotspots?\n",
    ". How did the parking violations vary during the year? Which months had the most violations? \n",
    ". How did parking violations vary based on the time of day? Which time of day are you most likely to get ticketed?\n",
    ". Which enforcement agency issued the most parking violations?\n",
    "\n",
    "\n"
   ]
  },
  {
   "cell_type": "markdown",
   "id": "f462e656-9215-4709-a903-1f9b0fe4c3b3",
   "metadata": {},
   "source": [
    "# Data\n",
    "The data used in this project was obtained from [NYC OpenData](https://data.cityofnewyork.us/City-Government/Parking-Violations-Issued-Fiscal-Year-2023/869v-vr48/about_data). The data used in this project was extracted for the year 2022 from the NYC OpenData database by filtering the data accordingly. The resulting dataset consists of 16,377,276 rows and  \n",
    "\n",
    "The data dictionary is provided below:"
   ]
  },
  {
   "cell_type": "code",
   "execution_count": null,
   "id": "3eb158ad-2554-4c93-82cc-a39af813033a",
   "metadata": {},
   "outputs": [],
   "source": [
    "import mysql.connector\n",
    "import pandas as pd\n",
    "\n",
    "# Establish connection\n",
    "connection = mysql.connector.connect(\n",
    "    host='localhost',       # or the IP address of your MySQL server\n",
    "    user='root',       # your MySQL username\n",
    "    password='CheckBigD@ta24', # your MySQL password\n",
    "    database='nyc_parking_vio', # the name of the database you are using\n",
    "    port=3306               # the port number, default is 3306\n",
    ")\n",
    ")\n",
    "\n",
    "# Example query\n",
    "query = \"SELECT * FROM parking_violations LIMIT 10;\"\n",
    "\n",
    "# Fetch data\n",
    "df = pd.read_sql(query, connection)\n"
   ]
  },
  {
   "cell_type": "markdown",
   "id": "f47a9438-b44c-408c-a74a-8c820e1392f3",
   "metadata": {},
   "source": [
    "# loading the data.\n",
    "The dataset, in the form of a CSV file, was downloaded from NYC OpenData and then loaded into MYSQL for analysis."
   ]
  },
  {
   "cell_type": "code",
   "execution_count": 1,
   "id": "0db2ff8c-ec68-436b-a10c-153442b4af04",
   "metadata": {},
   "outputs": [],
   "source": [
    "\n"
   ]
  },
  {
   "cell_type": "markdown",
   "id": "f55e8d69-dd7d-4f91-bac4-7ad79a7f8608",
   "metadata": {},
   "source": [
    "# Create a database and data table\n",
    "\n",
    "CREATE DATABASE nyc_parking_vio;\n",
    "USE nyc_parking_vio;"
   ]
  },
  {
   "cell_type": "markdown",
   "id": "1097bea6-125a-494d-9042-8772a572140c",
   "metadata": {},
   "source": [
    "I encountered challenges trying to create the table for the database. Though the data dictionary indicated that some of the columns were stored as numbers, etc., I had to load some of the data initially as varchar(255) and then convert the relevant columns to their respective data types. Therefore a staging table (parking_violations_staging) was used to load the data. The issue_date was then converted to date STR_TO_DATE(issue_date, '%m/%d/%Y'). The final table (parking_violations) was created and the data was then inserted into the final (parking_violation table). The missing values in all columns of the table were replaced with 'null' values.\n",
    "\n"
   ]
  },
  {
   "cell_type": "markdown",
   "id": "38446be4-a887-49b5-aacb-4f22a3d21397",
   "metadata": {},
   "source": [
    "# Create the database table\n",
    "\n",
    "create table vio_22\n",
    "(\n",
    "Plate varchar(255), \n",
    "State varchar(255), \n",
    "License_Type varchar(255), \n",
    "Summons_Number varchar(255), \n",
    "Issue_Date varchar(255), \n",
    "Violation_Time varchar(255), \n",
    "Violation varchar(255), \n",
    "Judgment_Entry_Date varchar(255), \n",
    "Fine_Amount decimal(10,2), \n",
    "Penalty_Amount decimal(10,2), \n",
    "Interest_Amount decimal(10,2), \n",
    "Reduction_Amount decimal(10,2), \n",
    "Payment_Amount decimal(10,2), \n",
    "Amount_Due decimal(10,2), \n",
    "Precinct int, \n",
    "County varchar(255), \n",
    "Issuing_Agency varchar(255), \n",
    "Violation_Status varchar(255), \n",
    "Summons_Image varchar(255)\n",
    ");\n"
   ]
  },
  {
   "cell_type": "markdown",
   "id": "0236e01e-725b-4eb6-8fc9-357ea852162a",
   "metadata": {},
   "source": [
    "# Data Cleaning\n"
   ]
  },
  {
   "cell_type": "markdown",
   "id": "1b153bc5-9585-42eb-be57-e4b976bfd100",
   "metadata": {},
   "source": [
    "## Missing Values\n",
    "\n",
    "The missing values were set to null using the code below:\n",
    "SET\n",
    "  Plate = NULLIF(Plate, ''),\n",
    "  State = NULLIF(State, ''),\n",
    "  License_Type = NULLIF(License_Type, ''),\n",
    "  Summons_Number = NULLIF(Summons_Number, ''),\n",
    "  Issue_Date = NULLIF(Issue_Date, ''),\n",
    "  Violation_Time = NULLIF(Violation_Time, ''),\n",
    "  Violation = NULLIF(Violation, ''),\n",
    "  Judgment_Entry_Date = NULLIF(Judgment_Entry_Date, ''),\n",
    "  Fine_Amount = NULLIF(Fine_Amount, ''),\n",
    "  Penalty_Amount = NULLIF(Penalty_Amount, ''),\n",
    "  Interest_Amount = NULLIF(Interest_Amount, ''),\n",
    "  Reduction_Amount = NULLIF(Reduction_Amount, ''),\n",
    "  Payment_Amount = NULLIF(Payment_Amount, ''),\n",
    "  Amount_Due = NULLIF(Amount_Due, ''),\n",
    "  Precinct = NULLIF(Precinct, ''),\n",
    "  County = NULLIF(County, ''),\n",
    "  Issuing_Agency = NULLIF(Issuing_Agency, ''),\n",
    "  Violation_Status = NULLIF(Violation_Status, ''),\n",
    "  Summons_Image = NULLIF(Summons_Image, '');\n"
   ]
  },
  {
   "cell_type": "code",
   "execution_count": null,
   "id": "e667638f-6c1e-4a2e-a730-8dddde6ecb40",
   "metadata": {},
   "outputs": [],
   "source": [
    "## Convert date columns\n",
    "The data in the "
   ]
  },
  {
   "cell_type": "code",
   "execution_count": null,
   "id": "15151474-5e32-4401-bad6-2e6c1ea54ebd",
   "metadata": {},
   "outputs": [],
   "source": [
    "# Note. some of the code used in this project was achieved with the assistance of AI."
   ]
  }
 ],
 "metadata": {
  "kernelspec": {
   "display_name": "Python 3 (ipykernel)",
   "language": "python",
   "name": "python3"
  },
  "language_info": {
   "codemirror_mode": {
    "name": "ipython",
    "version": 3
   },
   "file_extension": ".py",
   "mimetype": "text/x-python",
   "name": "python",
   "nbconvert_exporter": "python",
   "pygments_lexer": "ipython3",
   "version": "3.11.4"
  }
 },
 "nbformat": 4,
 "nbformat_minor": 5
}
